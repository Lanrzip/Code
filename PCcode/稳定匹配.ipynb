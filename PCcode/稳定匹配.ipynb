{
 "cells": [
  {
   "cell_type": "code",
   "execution_count": null,
   "metadata": {},
   "outputs": [],
   "source": [
    "man_num = int(input(\"请输入男生人数：\"))\n",
    "manlist = []\n",
    "for j in range(man_num):\n",
    "    manlist.append([])\n",
    "countm = 1\n",
    "for h in manlist:\n",
    "    x = input(\"请输入{}号男生的喜欢序列：\".format(countm)).split(\" \")\n",
    "    countm += 1\n",
    "    for i in x:\n",
    "        i = int(i)\n",
    "        h.append(i+1)\n",
    "wom_num = int(input(\"请输入女生人数：\"))\n",
    "womlist = []\n",
    "for j in range(wom_num):\n",
    "    womlist.append([])\n",
    "countw = 1\n",
    "for h in womlist:\n",
    "    x = input(\"请输入{}号女生的喜欢序列：\".format(countw)).split(\" \")\n",
    "    countw += 1\n",
    "    for i in x:\n",
    "        i = int(i)\n",
    "        h.append(i+1)\n",
    "wom_like_list = {}\n",
    "man_like_list = {}\n",
    "for m in range(man_num):\n",
    "    wom_like_list['wom{}'.format(m+1)] = 0\n",
    "    man_like_list['man{}'.format(m+1)] = 0\n",
    "c = range(1,man_num)\n",
    "need = False\n",
    "i = 1\n",
    "while i <= man_num:\n",
    "    while man_like_list['man{}'.format(i)] == 0:\n",
    "        for j in manlist[i-1]:\n",
    "            if wom_like_list['wom{}'.format(j)] == 0 or womlist[j-1].index(i) < womlist[j-1].index(wom_like_list['wom{}'.format(j)]):\n",
    "                if wom_like_list['wom{}'.format(j)] == 0:\n",
    "                    man_like_list['man{}'.format(i)] = j\n",
    "                    wom_like_list['wom{}'.format(j)] = i\n",
    "                    break;\n",
    "                else:\n",
    "                    was = wom_like_list['wom{}'.format(j)]\n",
    "                    man_like_list['man{}'.format(was)] = 0\n",
    "                    wom_like_list['wom{}'.format(j)] = i\n",
    "                    man_like_list['man{}'.format(i)] = j\n",
    "                    need = True\n",
    "                    break;\n",
    "    if i == man_num and need:\n",
    "        i = 1\n",
    "        need = False\n",
    "    else:\n",
    "        i += 1\n",
    "print(man_like_list)\n",
    "print(wom_like_list)"
   ]
  },
  {
   "cell_type": "code",
   "execution_count": null,
   "metadata": {},
   "outputs": [],
   "source": []
  }
 ],
 "metadata": {
  "kernelspec": {
   "display_name": "Python 3",
   "language": "python",
   "name": "python3"
  },
  "language_info": {
   "codemirror_mode": {
    "name": "ipython",
    "version": 3
   },
   "file_extension": ".py",
   "mimetype": "text/x-python",
   "name": "python",
   "nbconvert_exporter": "python",
   "pygments_lexer": "ipython3",
   "version": "3.7.4"
  }
 },
 "nbformat": 4,
 "nbformat_minor": 2
}
