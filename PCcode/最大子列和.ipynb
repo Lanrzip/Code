{
 "cells": [
  {
   "cell_type": "markdown",
   "metadata": {},
   "source": [
    "- 算法二"
   ]
  },
  {
   "cell_type": "code",
   "execution_count": 130,
   "metadata": {},
   "outputs": [
    {
     "name": "stdout",
     "output_type": "stream",
     "text": [
      "请输入一个数，这个数将决定生成数列的长度：1\n",
      "[4]\n",
      "4\n"
     ]
    }
   ],
   "source": [
    "from random import randint\n",
    "x_input = int(input(\"请输入一个数，这个数将决定生成数列的长度：\"))\n",
    "x_list = []\n",
    "for u in range(x_input):\n",
    "    x_list.append(randint(-10,10))\n",
    "print(x_list)\n",
    "end_sum = 0\n",
    "for i in range(x_input):\n",
    "    this_sum = 0\n",
    "    for j in range(i, x_input):\n",
    "        this_sum += x_list[j]\n",
    "        if this_sum > end_sum:\n",
    "            end_sum = this_sum\n",
    "print(end_sum)"
   ]
  },
  {
   "cell_type": "markdown",
   "metadata": {},
   "source": [
    "- 算法三"
   ]
  },
  {
   "cell_type": "code",
   "execution_count": 138,
   "metadata": {},
   "outputs": [
    {
     "name": "stdout",
     "output_type": "stream",
     "text": [
      "请输入一个数，这个数将决定生成数列的长度：10\n",
      "[1, -6, 0, 3, 6, 2, 6, 8, 4, 6]\n"
     ]
    },
    {
     "data": {
      "text/plain": [
       "35"
      ]
     },
     "execution_count": 138,
     "metadata": {},
     "output_type": "execute_result"
    }
   ],
   "source": [
    "from random import randint\n",
    "x_input = int(input(\"请输入一个数，这个数将决定生成数列的长度：\"))\n",
    "x_list = []\n",
    "for u in range(x_input):\n",
    "    x_list.append(randint(-10,10))\n",
    "print(x_list)\n",
    "    \n",
    "def countmax(div_list):\n",
    "    if len(div_list) <= 1:\n",
    "        return div_list[0]\n",
    "    \n",
    "    div_len = int(len(div_list)/2)\n",
    "    div_list_l = div_list[:div_len]\n",
    "    div_list_l_max = countmax(div_list_l)\n",
    "    \n",
    "    div_list_r = div_list[div_len:]\n",
    "    div_list_r_max = countmax(div_list_r)\n",
    "    \n",
    "    div_list_cl_max = 0\n",
    "    div_list_cl = 0\n",
    "    for i in range(div_len-1, -1, -1):\n",
    "        div_list_cl += div_list_l[i]\n",
    "        if div_list_cl > div_list_cl_max:\n",
    "            div_list_cl_max = div_list_cl\n",
    "            \n",
    "    div_list_cr_max = 0\n",
    "    div_list_cr = 0\n",
    "    for j in range(0,div_len):\n",
    "        div_list_cr += div_list_r[j]\n",
    "        if div_list_cr > div_list_cr_max:\n",
    "            div_list_cr_max = div_list_cr\n",
    "            \n",
    "    div_list_c_max = div_list_cl_max + div_list_cr_max\n",
    "    return max(div_list_l_max, div_list_r_max, div_list_c_max)\n",
    "\n",
    "countmax(x_list)\n",
    "    "
   ]
  },
  {
   "cell_type": "markdown",
   "metadata": {},
   "source": [
    "- 算法四"
   ]
  },
  {
   "cell_type": "code",
   "execution_count": 141,
   "metadata": {},
   "outputs": [
    {
     "name": "stdout",
     "output_type": "stream",
     "text": [
      "请输入一个数，这个数将决定生成数列的长度：10\n",
      "[-8, 8, 8, -5, 2, 7, -3, 8, 4, -8]\n",
      "29\n"
     ]
    }
   ],
   "source": [
    "from random import randint\n",
    "x_input = int(input(\"请输入一个数，这个数将决定生成数列的长度：\"))\n",
    "x_list = []\n",
    "for u in range(x_input):\n",
    "    x_list.append(randint(-10,10))\n",
    "print(x_list)\n",
    "end_sum = 0\n",
    "this_sum = 0\n",
    "for i in range(x_input):\n",
    "    this_sum += x_list[i]\n",
    "    if this_sum > end_sum:\n",
    "        end_sum = this_sum\n",
    "    if this_sum < 0:\n",
    "        this_sum = 0\n",
    "print(end_sum)"
   ]
  },
  {
   "cell_type": "markdown",
   "metadata": {},
   "source": [
    "- 算法四改进"
   ]
  },
  {
   "cell_type": "code",
   "execution_count": 135,
   "metadata": {},
   "outputs": [
    {
     "name": "stdout",
     "output_type": "stream",
     "text": [
      "请输入一个数，这个数将决定生成数列的长度：3\n",
      "[8, 1, 4]\n",
      "13 8 4\n"
     ]
    }
   ],
   "source": [
    "from random import randint\n",
    "x_input = int(input(\"请输入一个数，这个数将决定生成数列的长度：\"))\n",
    "x_list = []\n",
    "for u in range(x_input):\n",
    "    x_list.append(randint(-10,10))\n",
    "print(x_list)\n",
    "end_sum = 0\n",
    "this_sum = 0\n",
    "end_list = []\n",
    "this_list = []\n",
    "for i in range(x_input):\n",
    "    this_sum += x_list[i]\n",
    "    this_list.append(x_list[i])\n",
    "    #print(this_list)\n",
    "    if this_sum > end_sum:\n",
    "        end_sum = this_sum\n",
    "        end_list = this_list.copy()\n",
    "    if this_sum <= 0:\n",
    "        this_sum = 0\n",
    "        this_list = []\n",
    "print(end_sum, end_list[0], end_list[-1])"
   ]
  },
  {
   "cell_type": "markdown",
   "metadata": {},
   "source": [
    "- 算法四（提交）"
   ]
  },
  {
   "cell_type": "code",
   "execution_count": 136,
   "metadata": {},
   "outputs": [
    {
     "name": "stdout",
     "output_type": "stream",
     "text": [
      "3\n",
      "1 2 3\n",
      "6\n"
     ]
    }
   ],
   "source": [
    "from random import randint\n",
    "x_input = int(input())\n",
    "x = list(input().split(' '))\n",
    "x_list = []\n",
    "for i in x:\n",
    "    x_list.append(int(i))\n",
    "end_sum = 0\n",
    "this_sum = 0\n",
    "for i in range(x_input):\n",
    "    this_sum += x_list[i]\n",
    "    if this_sum > end_sum:\n",
    "        end_sum = this_sum\n",
    "    if this_sum < 0:\n",
    "        this_sum = 0\n",
    "print(end_sum)"
   ]
  },
  {
   "cell_type": "markdown",
   "metadata": {},
   "source": [
    "- Maximum Subsequence Sum（需要完善）"
   ]
  },
  {
   "cell_type": "code",
   "execution_count": 44,
   "metadata": {},
   "outputs": [
    {
     "name": "stdout",
     "output_type": "stream",
     "text": [
      "10\n",
      "-1 -2 -3 -5 -3 -3 -2 -2 -2 -2\n",
      "0 -1 -2\n"
     ]
    }
   ],
   "source": [
    "from random import randint\n",
    "x_input = int(input())\n",
    "x = list(input().split(' '))\n",
    "x_list = []\n",
    "for i in x:\n",
    "    x_list.append(int(i))\n",
    "end_sum = 0\n",
    "this_sum = 0\n",
    "end_list = []\n",
    "this_list = []\n",
    "for i in range(x_input):\n",
    "    this_sum += x_list[i]\n",
    "    this_list.append(x_list[i])\n",
    "    #print(this_list)\n",
    "    if this_sum > end_sum:\n",
    "        end_sum = this_sum\n",
    "        end_list = this_list.copy()\n",
    "    if this_sum <= 0:\n",
    "        this_sum = 0\n",
    "        this_list = []\n",
    "try:\n",
    "    print(end_sum, end_list[0], end_list[-1])\n",
    "except:\n",
    "    print(0, x_list[0], x_list[-1])"
   ]
  },
  {
   "cell_type": "code",
   "execution_count": null,
   "metadata": {},
   "outputs": [],
   "source": []
  }
 ],
 "metadata": {
  "kernelspec": {
   "display_name": "Python 3",
   "language": "python",
   "name": "python3"
  },
  "language_info": {
   "codemirror_mode": {
    "name": "ipython",
    "version": 3
   },
   "file_extension": ".py",
   "mimetype": "text/x-python",
   "name": "python",
   "nbconvert_exporter": "python",
   "pygments_lexer": "ipython3",
   "version": "3.7.4"
  }
 },
 "nbformat": 4,
 "nbformat_minor": 2
}
